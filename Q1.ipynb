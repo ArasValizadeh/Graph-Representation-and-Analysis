{
 "cells": [
  {
   "cell_type": "markdown",
   "metadata": {},
   "source": [
    "در بخش یک سوال از ما خواسته شده با روش توانی ۳ نفر از رفیق بازترین افراد دانشکده را مشخص کنیم. نکته ای که وجود دارد به این شکل است که این روش برای پیدا کردن بردار ویژه غالب استفاده می‌شود که به مرکزگرایی تفسیر می‌شود که مفهوم مرکزگرایی به این شکل است که فقط تعداد ارتباطات را برسی نمیکند و میزان اهمیت افرادی که یک فرد به آن ها متصل است را هم برسی می‌کند. با این تعریف یک نود مرکزگرایی قوی دارد به شرطی که به نود ها با کانشکن های قوی متصل باشد.\n",
    "در این مثال ۳ نود با اهمیت بالا آورده شده برای همین نود شماره ۶ درون جواب ها نمی‌باشد."
   ]
  },
  {
   "cell_type": "code",
   "execution_count": 10,
   "metadata": {},
   "outputs": [
    {
     "name": "stdout",
     "output_type": "stream",
     "text": [
      "Converged after 46 iterations\n",
      "Principal Eigenvector: [0.41698083 0.46543973 0.50349207 0.30370972 0.36713436 0.3591119 ]\n",
      "Principal Eigenvalue: 1.6902886188148525\n",
      "Top 3 Nodes: [(3, 0.5034920661848489), (2, 0.46543972864342403), (1, 0.416980831154707)]\n"
     ]
    }
   ],
   "source": [
    "import numpy as np\n",
    "adjacency_matrix = np.array([\n",
    "    [0, 0.8, 0.6, 0.1, 0, 0],\n",
    "    [0.8, 0, 0.9, 0, 0, 0],\n",
    "    [0.6, 0.9, 0, 0, 0.3, 0.2],\n",
    "    [0.1, 0, 0, 0, 0.6, 0.7],\n",
    "    [0, 0, 0.3, 0.6, 0, 0.8],\n",
    "    [0, 0, 0.2, 0.7, 0.8, 0]\n",
    "])\n",
    "def powerIteration(A, max_iterations=1000):\n",
    "    firstVector = np.ones(A.shape[1])  \n",
    "    for i in range(max_iterations):\n",
    "        secondVector = np.dot(A, firstVector)\n",
    "        norm = np.linalg.norm(secondVector)\n",
    "        secondVector = secondVector / norm\n",
    "        if np.linalg.norm(secondVector - firstVector) < 0.0000001:\n",
    "            print(f\"Converged after {i} iterations\")\n",
    "            eigenvalue = np.dot(firstVector.T, np.dot(A, firstVector)) / np.dot(firstVector.T, firstVector)\n",
    "            return secondVector, eigenvalue\n",
    "        firstVector = secondVector\n",
    "    eigenvalue = np.dot(firstVector.T, np.dot(A, firstVector)) / np.dot(firstVector.T, firstVector)\n",
    "    return firstVector, eigenvalue\n",
    "eigenvector, eigenvalue = powerIteration(adjacency_matrix)\n",
    "print(\"Principal Eigenvector:\", eigenvector)\n",
    "print(\"Principal Eigenvalue:\", eigenvalue)\n",
    "node_scores = {node: score for node, score in enumerate(eigenvector, start=1)}\n",
    "sorted_nodes = sorted(node_scores.items(), key=lambda item: item[1], reverse=True)\n",
    "top_3_nodes = sorted_nodes[:3]\n",
    "print(\"Top 3 Nodes:\", top_3_nodes)\n"
   ]
  },
  {
   "cell_type": "code",
   "execution_count": null,
   "metadata": {},
   "outputs": [],
   "source": []
  },
  {
   "cell_type": "markdown",
   "metadata": {},
   "source": [
    "در بخش دوم در ابتدا از ما خواسته شده تا درمورد ماتریس لاپلاسین تحقیق کنیم و کابرد آن را در تحلیل شبکه گراف بیان کنیم.\n",
    "ماتریس ذکر شده حاصل تفریق ماتریس درجه از ماتریس اولیه می باشد که می‌توان این شکلی بیان کرد که مجموع هر سطر را حساب کرده و در بخش قطراصلی همان سطر با یک علامت منها می‌گذاریم. تا در نهایت مجموع هر سطر مساوی صفر شود.\n",
    "در حوزه تحلیل شبکه گراف این ماتریس اطلاعاتی که برای ما نشان می‌دهد ارزشمند است مانند اینکه اگر یک مقدار ویژه صفر پیدا کنیم نشان می‌دهد که گراف شبکه ما همبند است و می‌توانیم روابط دوستی را مانند شکلی که میخواهیم بیان کنیم. همچنین بردار ویژه متناظر با کوچکترین مقدار ویژه برای ما مافهیم کلاستر بندی را بیان می‌کند.کاری که در این بخش انجام میدهیم بدین شکل است که با روش تخمینی بردار ویژه های غالب را حساب میکنیم تا به کوچکترین مقدار ویژه غیر صفر برسیم و بر اساس آن راجب همبندی صحبت کنیم\n",
    "کاری که باید انجام بدهیم این است که دومین مقدار کوچک مقدار ویژه ماتریس لاپلاسین را نگاه کنیم اگر بزرگتر از صفر بود میفهمیم که گراف به طور کامل متصل شده است\n"
   ]
  },
  {
   "cell_type": "code",
   "execution_count": 14,
   "metadata": {},
   "outputs": [
    {
     "name": "stdout",
     "output_type": "stream",
     "text": [
      "Second smallest eigenvalue (approx.): 0.001000000000000033\n",
      "Graph is fully connected\n"
     ]
    }
   ],
   "source": [
    "B = adjacency_matrix - eigenvalue*eigenvector*eigenvector.T\n",
    "degree_matrix = np.diag(B.sum(axis=1))\n",
    "laplacian_matrix = degree_matrix - B\n",
    "def inversePowerIteration(L, iterations=100):\n",
    "    x = np.ones(L.shape[1])\n",
    "    I = np.eye(L.shape[1])\n",
    "    B = L - 0.001 * I\n",
    "    for i in range(iterations):\n",
    "        x_new = np.linalg.solve(B,x)\n",
    "        x_new = x_new / np.linalg.norm(x_new)\n",
    "        if np.linalg.norm(x_new - x) < 0.00001:\n",
    "            break\n",
    "        x = x_new\n",
    "    eigenvalue = np.dot(x.T, np.dot(L, x)) / np.dot(x.T, x)\n",
    "    return eigenvalue + 0.001 , x  \n",
    "second_eigenvalue, second_eigenvector = inversePowerIteration(laplacian_matrix)\n",
    "print(f\"Second smallest eigenvalue (approx.): {eigenvalue}\")\n",
    "if second_eigenvalue > 0:\n",
    "    print(\"Graph is fully connected\")\n",
    "else:\n",
    "    print(\"Graph may not be fully connected\")"
   ]
  },
  {
   "cell_type": "markdown",
   "metadata": {},
   "source": [
    "برای بخش آخر قسمت دوم سوال از ما پرسیده شده است که آیا گراف را میتوان با استفاده از فضا پوچ ماتریس مجاورت تشخیص داد که آیا همبند می‌باشد یا نه \n",
    "به این مفهوم دقت میکنیم که اگر ماتریس لاپلاسین بیش از یک مقدار ویژه صفر داشته باشد شرط همبندی را نقض کرده است پس به سراغ این می رویم که مقادیر ویژه های آن را با توجه به فضا پوچ محسابه کنیم\n",
    "فضا پوچ ماتریس تمامی بردار هایی که ضرب آن با ماتریس لاپلاسین را مساوی بردار صفر میکند را نشان میدهد. در اصل بعد فضا پوچ تعداد زیرگراف های متصل به هم در گراف اصلی را نشان میدهد پس اگر بعد این فضا یک باشد نشان میدهد که گراف همبند می‌باشد"
   ]
  },
  {
   "cell_type": "code",
   "execution_count": 63,
   "metadata": {},
   "outputs": [
    {
     "name": "stdout",
     "output_type": "stream",
     "text": [
      "Graph fully connected: True\n"
     ]
    }
   ],
   "source": [
    "def isFullyConnectedWithNullSpace(Matrix):\n",
    "    eigenvalues, eigenvectors = np.linalg.eigh(Matrix)\n",
    "    zero_eigenvalue = np.isclose(eigenvalues,0,atol=0.000001)\n",
    "    null_space_vectors = eigenvectors[:,zero_eigenvalue]\n",
    "    return null_space_vectors.shape[1] == 1\n",
    "print(f\"Graph fully connected: {isFullyConnectedWithNullSpace(laplacian_matrix)}\")\n"
   ]
  }
 ],
 "metadata": {
  "kernelspec": {
   "display_name": "Python 3",
   "language": "python",
   "name": "python3"
  },
  "language_info": {
   "codemirror_mode": {
    "name": "ipython",
    "version": 3
   },
   "file_extension": ".py",
   "mimetype": "text/x-python",
   "name": "python",
   "nbconvert_exporter": "python",
   "pygments_lexer": "ipython3",
   "version": "3.10.7"
  }
 },
 "nbformat": 4,
 "nbformat_minor": 2
}
