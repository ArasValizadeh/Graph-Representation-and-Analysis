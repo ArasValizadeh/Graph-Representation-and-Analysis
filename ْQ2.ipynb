{
 "cells": [
  {
   "cell_type": "markdown",
   "metadata": {},
   "source": [
    "در این سوال از ما خواسته شده که با استفاده از جبرخطی، دنباله فیبوناچی را حساب کنیم.در قسمت اول با کمک استقرا می‌توان اثبات کرد اگر ماتریس زیر را به توان عدد مورد نظر رساند می تواند دنباله هایی که در متن سوال ذکر شده است را برای ما محاسبه کند برایه مین موردی می تونایم از ضرب ماتریسی استفاده کنیم اما محدودیت سوال باعث می‌شود ضرب را بدین گونه پیاده سازی کنیم که برای محاسبه ماتریس از مرتبه ۸ به سراغ ضرب دو ماتریس از مرتبه ۴ برویم پس الگوریتم بازگشتی زیر را می‌نویسیم."
   ]
  },
  {
   "cell_type": "code",
   "execution_count": 1,
   "metadata": {},
   "outputs": [],
   "source": [
    "import math\n",
    "import numpy as np\n",
    "Matrix = np.array([[1, 1],[1, 0]])\n",
    "def fibonachiOfA(Matrix, n):\n",
    "    if n == 1:\n",
    "        return Matrix\n",
    "    else:\n",
    "        half_power = fibonachiOfA(Matrix, math.floor(n / 2))\n",
    "        result = half_power @ half_power\n",
    "        return result @ Matrix if n % 2 != 0 else result  "
   ]
  },
  {
   "cell_type": "markdown",
   "metadata": {},
   "source": [
    "برای حل بخش دوم سوال از طریق بردار های ویژه باید از تجزیه ماتریس ها استفاده کرد بدین صورت که اول از همه بردار ویژه ها و همه مقادیر ویژه ماتریس را با استفاده از توابع اماده محاسبه می‌کنیم.و ماتریس را مانند رو به رو تجزیه می‌کنیم A=PDP \n",
    "−1"
   ]
  },
  {
   "cell_type": "markdown",
   "metadata": {},
   "source": [
    "با توجه به اثبات در تمارین کاغذی می‌دانیم که : \n",
    "A \n",
    "n\n",
    " =P⋅D \n",
    "n\n",
    " ⋅P \n",
    "−1\n",
    "پس صرفا کافی است که توان مورد نظر ماتریس D را محاسبه کنیم\n"
   ]
  },
  {
   "cell_type": "markdown",
   "metadata": {},
   "source": [
    "و چون ماتریس فوق یک ماتریس قطری می‌باشد کافی است تک تک اجزا روی قطر اصلی را به توان مورد نظر برسانیم و درگیر ضرب ماتریسی نشویم"
   ]
  },
  {
   "cell_type": "code",
   "execution_count": 4,
   "metadata": {},
   "outputs": [
    {
     "name": "stdout",
     "output_type": "stream",
     "text": [
      "d [ 1.61803399 -0.61803399]\n",
      "c [[ 0.85065081 -0.52573111]\n",
      " [ 0.52573111  0.85065081]]\n",
      "f [[ 1.61803399  0.        ]\n",
      " [ 0.         -0.61803399]]\n",
      "[[10946.  6765.]\n",
      " [ 6765.  4181.]]\n",
      "[[10946  6765]\n",
      " [ 6765  4181]]\n"
     ]
    }
   ],
   "source": [
    " \n",
    "def fibonachiOfAEigenVector(Matrix,n):\n",
    "    eigenvalues, eigenvectors = np.linalg.eig(Matrix)\n",
    "    D = np.diag(eigenvalues)\n",
    "    D_n = np.linalg.matrix_power(D, n)\n",
    "    P_inv = np.linalg.inv(eigenvectors)\n",
    "    A_n = eigenvectors @ D_n @ P_inv\n",
    "    return A_n\n",
    "print(fibonachiOfAEigenVector(Matrix,20))\n",
    "print(fibonachiOfA(Matrix,20))"
   ]
  },
  {
   "cell_type": "markdown",
   "metadata": {},
   "source": [
    "در بخش زیر هم سرعت اجرا توابع نوشته شده محاسبه و مقایسه می‌شود."
   ]
  },
  {
   "cell_type": "code",
   "execution_count": 21,
   "metadata": {},
   "outputs": [
    {
     "name": "stdout",
     "output_type": "stream",
     "text": [
      "time of fibonachiOfAEigenVector : 0.05 s\n",
      "time of fibonachiOfA : 0.02 s\n"
     ]
    }
   ],
   "source": [
    "\n",
    "time1 = np.testing.measure('fibonachiOfAEigenVector(Matrix,1234)',1000)\n",
    "time2 = np.testing.measure('fibonachiOfA(Matrix,1234)',1000)\n",
    "print(\"time of fibonachiOfAEigenVector :\",time1,\"s\")\n",
    "print(\"time of fibonachiOfA :\",time2,\"s\")  "
   ]
  }
 ],
 "metadata": {
  "kernelspec": {
   "display_name": "Python 3",
   "language": "python",
   "name": "python3"
  },
  "language_info": {
   "codemirror_mode": {
    "name": "ipython",
    "version": 3
   },
   "file_extension": ".py",
   "mimetype": "text/x-python",
   "name": "python",
   "nbconvert_exporter": "python",
   "pygments_lexer": "ipython3",
   "version": "3.10.7"
  }
 },
 "nbformat": 4,
 "nbformat_minor": 2
}
